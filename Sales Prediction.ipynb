{
 "cells": [
  {
   "cell_type": "code",
   "execution_count": 10,
   "metadata": {},
   "outputs": [],
   "source": [
    "import pandas as pd\n",
    "import matplotlib.pyplot as plt\n",
    "import seaborn as sns\n",
    "import numpy as np\n",
    "import warnings\n",
    "warnings.filterwarnings('ignore')\n"
   ]
  },
  {
   "cell_type": "code",
   "execution_count": 4,
   "metadata": {},
   "outputs": [],
   "source": [
    "df = pd.read_csv('D:\\Intership dataset\\Advertising.csv')"
   ]
  },
  {
   "cell_type": "code",
   "execution_count": 6,
   "metadata": {},
   "outputs": [
    {
     "data": {
      "text/html": [
       "<div>\n",
       "<style scoped>\n",
       "    .dataframe tbody tr th:only-of-type {\n",
       "        vertical-align: middle;\n",
       "    }\n",
       "\n",
       "    .dataframe tbody tr th {\n",
       "        vertical-align: top;\n",
       "    }\n",
       "\n",
       "    .dataframe thead th {\n",
       "        text-align: right;\n",
       "    }\n",
       "</style>\n",
       "<table border=\"1\" class=\"dataframe\">\n",
       "  <thead>\n",
       "    <tr style=\"text-align: right;\">\n",
       "      <th></th>\n",
       "      <th>Unnamed: 0</th>\n",
       "      <th>TV</th>\n",
       "      <th>Radio</th>\n",
       "      <th>Newspaper</th>\n",
       "      <th>Sales</th>\n",
       "    </tr>\n",
       "  </thead>\n",
       "  <tbody>\n",
       "    <tr>\n",
       "      <th>0</th>\n",
       "      <td>1</td>\n",
       "      <td>230.1</td>\n",
       "      <td>37.8</td>\n",
       "      <td>69.2</td>\n",
       "      <td>22.1</td>\n",
       "    </tr>\n",
       "    <tr>\n",
       "      <th>1</th>\n",
       "      <td>2</td>\n",
       "      <td>44.5</td>\n",
       "      <td>39.3</td>\n",
       "      <td>45.1</td>\n",
       "      <td>10.4</td>\n",
       "    </tr>\n",
       "    <tr>\n",
       "      <th>2</th>\n",
       "      <td>3</td>\n",
       "      <td>17.2</td>\n",
       "      <td>45.9</td>\n",
       "      <td>69.3</td>\n",
       "      <td>9.3</td>\n",
       "    </tr>\n",
       "    <tr>\n",
       "      <th>3</th>\n",
       "      <td>4</td>\n",
       "      <td>151.5</td>\n",
       "      <td>41.3</td>\n",
       "      <td>58.5</td>\n",
       "      <td>18.5</td>\n",
       "    </tr>\n",
       "    <tr>\n",
       "      <th>4</th>\n",
       "      <td>5</td>\n",
       "      <td>180.8</td>\n",
       "      <td>10.8</td>\n",
       "      <td>58.4</td>\n",
       "      <td>12.9</td>\n",
       "    </tr>\n",
       "  </tbody>\n",
       "</table>\n",
       "</div>"
      ],
      "text/plain": [
       "   Unnamed: 0     TV  Radio  Newspaper  Sales\n",
       "0           1  230.1   37.8       69.2   22.1\n",
       "1           2   44.5   39.3       45.1   10.4\n",
       "2           3   17.2   45.9       69.3    9.3\n",
       "3           4  151.5   41.3       58.5   18.5\n",
       "4           5  180.8   10.8       58.4   12.9"
      ]
     },
     "execution_count": 6,
     "metadata": {},
     "output_type": "execute_result"
    }
   ],
   "source": [
    "df.head()"
   ]
  },
  {
   "cell_type": "code",
   "execution_count": 7,
   "metadata": {},
   "outputs": [
    {
     "name": "stdout",
     "output_type": "stream",
     "text": [
      "<class 'pandas.core.frame.DataFrame'>\n",
      "RangeIndex: 200 entries, 0 to 199\n",
      "Data columns (total 5 columns):\n",
      "Unnamed: 0    200 non-null int64\n",
      "TV            200 non-null float64\n",
      "Radio         200 non-null float64\n",
      "Newspaper     200 non-null float64\n",
      "Sales         200 non-null float64\n",
      "dtypes: float64(4), int64(1)\n",
      "memory usage: 7.9 KB\n"
     ]
    }
   ],
   "source": [
    "df.info()"
   ]
  },
  {
   "cell_type": "code",
   "execution_count": 8,
   "metadata": {},
   "outputs": [
    {
     "data": {
      "text/html": [
       "<div>\n",
       "<style scoped>\n",
       "    .dataframe tbody tr th:only-of-type {\n",
       "        vertical-align: middle;\n",
       "    }\n",
       "\n",
       "    .dataframe tbody tr th {\n",
       "        vertical-align: top;\n",
       "    }\n",
       "\n",
       "    .dataframe thead th {\n",
       "        text-align: right;\n",
       "    }\n",
       "</style>\n",
       "<table border=\"1\" class=\"dataframe\">\n",
       "  <thead>\n",
       "    <tr style=\"text-align: right;\">\n",
       "      <th></th>\n",
       "      <th>Unnamed: 0</th>\n",
       "      <th>TV</th>\n",
       "      <th>Radio</th>\n",
       "      <th>Newspaper</th>\n",
       "      <th>Sales</th>\n",
       "    </tr>\n",
       "  </thead>\n",
       "  <tbody>\n",
       "    <tr>\n",
       "      <th>count</th>\n",
       "      <td>200.000000</td>\n",
       "      <td>200.000000</td>\n",
       "      <td>200.000000</td>\n",
       "      <td>200.000000</td>\n",
       "      <td>200.000000</td>\n",
       "    </tr>\n",
       "    <tr>\n",
       "      <th>mean</th>\n",
       "      <td>100.500000</td>\n",
       "      <td>147.042500</td>\n",
       "      <td>23.264000</td>\n",
       "      <td>30.554000</td>\n",
       "      <td>14.022500</td>\n",
       "    </tr>\n",
       "    <tr>\n",
       "      <th>std</th>\n",
       "      <td>57.879185</td>\n",
       "      <td>85.854236</td>\n",
       "      <td>14.846809</td>\n",
       "      <td>21.778621</td>\n",
       "      <td>5.217457</td>\n",
       "    </tr>\n",
       "    <tr>\n",
       "      <th>min</th>\n",
       "      <td>1.000000</td>\n",
       "      <td>0.700000</td>\n",
       "      <td>0.000000</td>\n",
       "      <td>0.300000</td>\n",
       "      <td>1.600000</td>\n",
       "    </tr>\n",
       "    <tr>\n",
       "      <th>25%</th>\n",
       "      <td>50.750000</td>\n",
       "      <td>74.375000</td>\n",
       "      <td>9.975000</td>\n",
       "      <td>12.750000</td>\n",
       "      <td>10.375000</td>\n",
       "    </tr>\n",
       "    <tr>\n",
       "      <th>50%</th>\n",
       "      <td>100.500000</td>\n",
       "      <td>149.750000</td>\n",
       "      <td>22.900000</td>\n",
       "      <td>25.750000</td>\n",
       "      <td>12.900000</td>\n",
       "    </tr>\n",
       "    <tr>\n",
       "      <th>75%</th>\n",
       "      <td>150.250000</td>\n",
       "      <td>218.825000</td>\n",
       "      <td>36.525000</td>\n",
       "      <td>45.100000</td>\n",
       "      <td>17.400000</td>\n",
       "    </tr>\n",
       "    <tr>\n",
       "      <th>max</th>\n",
       "      <td>200.000000</td>\n",
       "      <td>296.400000</td>\n",
       "      <td>49.600000</td>\n",
       "      <td>114.000000</td>\n",
       "      <td>27.000000</td>\n",
       "    </tr>\n",
       "  </tbody>\n",
       "</table>\n",
       "</div>"
      ],
      "text/plain": [
       "       Unnamed: 0          TV       Radio   Newspaper       Sales\n",
       "count  200.000000  200.000000  200.000000  200.000000  200.000000\n",
       "mean   100.500000  147.042500   23.264000   30.554000   14.022500\n",
       "std     57.879185   85.854236   14.846809   21.778621    5.217457\n",
       "min      1.000000    0.700000    0.000000    0.300000    1.600000\n",
       "25%     50.750000   74.375000    9.975000   12.750000   10.375000\n",
       "50%    100.500000  149.750000   22.900000   25.750000   12.900000\n",
       "75%    150.250000  218.825000   36.525000   45.100000   17.400000\n",
       "max    200.000000  296.400000   49.600000  114.000000   27.000000"
      ]
     },
     "execution_count": 8,
     "metadata": {},
     "output_type": "execute_result"
    }
   ],
   "source": [
    "df.describe()"
   ]
  },
  {
   "cell_type": "code",
   "execution_count": 9,
   "metadata": {},
   "outputs": [
    {
     "data": {
      "text/plain": [
       "Unnamed: 0    0\n",
       "TV            0\n",
       "Radio         0\n",
       "Newspaper     0\n",
       "Sales         0\n",
       "dtype: int64"
      ]
     },
     "execution_count": 9,
     "metadata": {},
     "output_type": "execute_result"
    }
   ],
   "source": [
    "df.isnull().sum()"
   ]
  },
  {
   "cell_type": "code",
   "execution_count": 11,
   "metadata": {},
   "outputs": [
    {
     "data": {
      "image/png": "[encoded data removed]",
      "text/plain": [
       "<matplotlib.figure.Figure at 0x1a77a016eb8>"
      ]
     },
     "metadata": {},
     "output_type": "display_data"
    }
   ],
   "source": [
    "fig, axs = plt.subplots(3, figsize = (5,5))\n",
    "plt1 = sns.boxplot(df['TV'], ax = axs[0])\n",
    "plt2 = sns.boxplot(df['Newspaper'], ax = axs[1])\n",
    "plt3 = sns.boxplot(df['Radio'], ax = axs[2])\n",
    "plt.tight_layout()"
   ]
  },
  {
   "cell_type": "code",
   "execution_count": 12,
   "metadata": {},
   "outputs": [
    {
     "data": {
      "text/plain": [
       "<matplotlib.axes._subplots.AxesSubplot at 0x1a77a016860>"
      ]
     },
     "execution_count": 12,
     "metadata": {},
     "output_type": "execute_result"
    },
    {
     "data": {
      "image/png": "[encoded data removed]",
      "text/plain": [
       "<matplotlib.figure.Figure at 0x1a777c02208>"
      ]
     },
     "metadata": {},
     "output_type": "display_data"
    }
   ],
   "source": [
    "sns.distplot(df['Newspaper'])"
   ]
  },
  {
   "cell_type": "code",
   "execution_count": 13,
   "metadata": {},
   "outputs": [],
   "source": [
    "iqr = df.Newspaper.quantile(0.75) - df.Newspaper.quantile(0.25)"
   ]
  },
  {
   "cell_type": "code",
   "execution_count": 14,
   "metadata": {},
   "outputs": [
    {
     "name": "stdout",
     "output_type": "stream",
     "text": [
      "-35.775000000000006\n",
      "93.625\n"
     ]
    }
   ],
   "source": [
    "lower_bridge = df[\"Newspaper\"].quantile(0.25) - (iqr*1.5)\n",
    "upper_bridge = df[\"Newspaper\"].quantile(0.75) + (iqr*1.5)\n",
    "print(lower_bridge)\n",
    "print(upper_bridge)"
   ]
  },
  {
   "cell_type": "code",
   "execution_count": 15,
   "metadata": {},
   "outputs": [
    {
     "data": {
      "text/plain": [
       "<matplotlib.axes._subplots.AxesSubplot at 0x1a77a4d4710>"
      ]
     },
     "execution_count": 15,
     "metadata": {},
     "output_type": "execute_result"
    },
    {
     "data": {
      "image/png": "[encoded data removed]",
      "text/plain": [
       "<matplotlib.figure.Figure at 0x1a77a0fa908>"
      ]
     },
     "metadata": {},
     "output_type": "display_data"
    }
   ],
   "source": [
    "data = df.copy()\n",
    "data.loc[data['Newspaper']>=93, 'Newspaper']=93\n",
    "sns.boxplot(data['Newspaper'])\n"
   ]
  },
  {
   "cell_type": "code",
   "execution_count": 16,
   "metadata": {},
   "outputs": [
    {
     "data": {
      "image/png": "[encoded data removed]",
      "text/plain": [
       "<matplotlib.figure.Figure at 0x1a77a4cdf98>"
      ]
     },
     "metadata": {},
     "output_type": "display_data"
    }
   ],
   "source": [
    "sns.boxplot(data['Sales']);"
   ]
  },
  {
   "cell_type": "code",
   "execution_count": 21,
   "metadata": {},
   "outputs": [
    {
     "data": {
      "image/png": "[encoded data removed]",
      "text/plain": [
       "<matplotlib.figure.Figure at 0x1a77a4cd978>"
      ]
     },
     "metadata": {},
     "output_type": "display_data"
    }
   ],
   "source": [
    "sns.heatmap(data.corr(), cmap=\"YlGnBu\", annot = True)\n",
    "plt.show()"
   ]
  },
  {
   "cell_type": "code",
   "execution_count": 22,
   "metadata": {},
   "outputs": [
    {
     "name": "stdout",
     "output_type": "stream",
     "text": [
      "['TV', 'Radio', 'Sales']\n"
     ]
    }
   ],
   "source": [
    "important_features = list(df.corr()['Sales'][(df.corr()['Sales']>+0.5)|(df.corr()['Sales']<-0.5)].index)\n",
    "print(important_features)"
   ]
  },
  {
   "cell_type": "code",
   "execution_count": 23,
   "metadata": {},
   "outputs": [],
   "source": [
    "X = data['TV']\n",
    "y = data['Sales']"
   ]
  },
  {
   "cell_type": "code",
   "execution_count": 24,
   "metadata": {},
   "outputs": [],
   "source": [
    "X = X.values.reshape(-1,1)"
   ]
  },
  {
   "cell_type": "code",
   "execution_count": 25,
   "metadata": {},
   "outputs": [],
   "source": [
    "from sklearn.model_selection import train_test_split\n",
    "X_train,X_test,y_train,y_test=train_test_split(X,y, test_size=0.33)"
   ]
  },
  {
   "cell_type": "code",
   "execution_count": 26,
   "metadata": {},
   "outputs": [
    {
     "name": "stdout",
     "output_type": "stream",
     "text": [
      "(134, 1) (134,)\n"
     ]
    }
   ],
   "source": [
    "print(X_train.shape,y_train.shape)"
   ]
  },
  {
   "cell_type": "code",
   "execution_count": 27,
   "metadata": {},
   "outputs": [],
   "source": [
    "from sklearn.metrics import  mean_squared_error , r2_score\n",
    "from sklearn.model_selection import cross_val_score,GridSearchCV\n",
    "from sklearn.neighbors import KNeighborsRegressor\n",
    "from sklearn.svm import SVR\n",
    "from sklearn.tree import DecisionTreeRegressor\n",
    "from sklearn.ensemble import RandomForestRegressor"
   ]
  },
  {
   "cell_type": "code",
   "execution_count": 28,
   "metadata": {},
   "outputs": [
    {
     "data": {
      "text/plain": [
       "KNeighborsRegressor(algorithm='auto', leaf_size=30, metric='minkowski',\n",
       "          metric_params=None, n_jobs=1, n_neighbors=5, p=2,\n",
       "          weights='uniform')"
      ]
     },
     "execution_count": 28,
     "metadata": {},
     "output_type": "execute_result"
    }
   ],
   "source": [
    "knn = KNeighborsRegressor().fit(X_train, y_train)\n",
    "knn"
   ]
  },
  {
   "cell_type": "code",
   "execution_count": 29,
   "metadata": {},
   "outputs": [],
   "source": [
    "knn_train_pred = knn.predict(X_train)"
   ]
  },
  {
   "cell_type": "code",
   "execution_count": 30,
   "metadata": {},
   "outputs": [],
   "source": [
    "knn_test_pred = knn.predict(X_test)"
   ]
  },
  {
   "cell_type": "code",
   "execution_count": 31,
   "metadata": {},
   "outputs": [
    {
     "name": "stdout",
     "output_type": "stream",
     "text": [
      "[16.98 21.46 17.54  9.72 11.84 13.3  17.24 17.76 12.54  6.94 13.38  9.72\n",
      " 18.68 20.38 21.78  6.28 12.4  21.56 17.54 11.88  9.84 11.36  6.04 16.28\n",
      " 21.44  9.84 18.3  20.7   6.28 13.36  8.26 13.92  9.76 12.38 17.26 14.34\n",
      " 11.84 13.26 11.12 11.12  7.52 18.72 12.76 14.34 18.72  7.52 12.38 16.28\n",
      " 15.76 13.38 21.44 13.3  14.92 12.54 11.84  9.72 14.72  9.12 11.3  12.76\n",
      " 20.48 21.44 20.7  11.6  16.38 14.56 17.54 16.1  21.56 16.28 14.54  9.44\n",
      " 19.94 19.34 20.38  8.26 18.16  9.84 11.32  8.26 16.62 11.12  5.88 18.72\n",
      " 11.32 13.26 17.18 17.4  17.54 11.3  15.28 12.38 18.82 15.76  5.88 13.92\n",
      " 14.54 17.54  7.52 16.1  13.18 15.3  12.52 17.54  7.52 17.24 11.2  11.84\n",
      "  9.44  7.52 11.12 16.04 18.72 16.5  21.56  6.94 16.1  19.94 12.14 13.26\n",
      " 16.1  15.76 20.68 13.26 15.34 14.62 18.82 15.24 17.54  5.88 16.16 12.54\n",
      " 11.82 18.88] [11.84 14.8  11.12 20.68  9.84  9.76 12.58 15.76 20.48 20.38  5.88 11.32\n",
      " 19.34 17.24 16.56 13.26  7.52 11.82 13.92 13.38 19.02 20.7  15.24 16.16\n",
      " 13.3  18.16 21.44 13.38 21.78  7.52  7.76 10.16 16.1  11.84 13.38  5.88\n",
      " 11.26 11.12 18.68 16.16 18.72 18.88 13.78 12.76 11.82 12.76 16.16 10.26\n",
      " 16.38 14.48 18.16 17.54 17.76  7.76  7.52  8.26 14.54 13.26 11.32 17.78\n",
      "  7.76 12.58  5.88 10.26 17.26 13.26]\n"
     ]
    }
   ],
   "source": [
    "print(knn_train_pred, knn_test_pred)"
   ]
  },
  {
   "cell_type": "code",
   "execution_count": 32,
   "metadata": {},
   "outputs": [],
   "source": [
    "Results = pd.DataFrame(columns=[\"Model\",\"Train R2\",\"Test R2\",\"Test RMSE\",\"Variance\"])\n"
   ]
  },
  {
   "cell_type": "code",
   "execution_count": 33,
   "metadata": {},
   "outputs": [
    {
     "name": "stdout",
     "output_type": "stream",
     "text": [
      "R2: 0.5422435740914658\n",
      "RMSE: 3.5613480593730236\n"
     ]
    }
   ],
   "source": [
    "r2 = r2_score(y_test,knn_test_pred)\n",
    "r2_train = r2_score(y_train,knn_train_pred)\n",
    "rmse = np.sqrt(mean_squared_error(y_test,knn_test_pred))\n",
    "variance = r2_train - r2\n",
    "Results = Results.append({\"Model\":\"K-Nearest Neighbors\",\"Train R2\":r2_train,\"Test R2\":r2,\"Test RMSE\":rmse,\"Variance\":variance},ignore_index=True)\n",
    "print(\"R2:\",r2)\n",
    "print(\"RMSE:\",rmse)\n",
    "     "
   ]
  },
  {
   "cell_type": "code",
   "execution_count": 34,
   "metadata": {},
   "outputs": [
    {
     "data": {
      "text/html": [
       "<div>\n",
       "<style scoped>\n",
       "    .dataframe tbody tr th:only-of-type {\n",
       "        vertical-align: middle;\n",
       "    }\n",
       "\n",
       "    .dataframe tbody tr th {\n",
       "        vertical-align: top;\n",
       "    }\n",
       "\n",
       "    .dataframe thead th {\n",
       "        text-align: right;\n",
       "    }\n",
       "</style>\n",
       "<table border=\"1\" class=\"dataframe\">\n",
       "  <thead>\n",
       "    <tr style=\"text-align: right;\">\n",
       "      <th></th>\n",
       "      <th>Model</th>\n",
       "      <th>Train R2</th>\n",
       "      <th>Test R2</th>\n",
       "      <th>Test RMSE</th>\n",
       "      <th>Variance</th>\n",
       "    </tr>\n",
       "  </thead>\n",
       "  <tbody>\n",
       "    <tr>\n",
       "      <th>0</th>\n",
       "      <td>K-Nearest Neighbors</td>\n",
       "      <td>0.676961</td>\n",
       "      <td>0.542244</td>\n",
       "      <td>3.561348</td>\n",
       "      <td>0.134718</td>\n",
       "    </tr>\n",
       "  </tbody>\n",
       "</table>\n",
       "</div>"
      ],
      "text/plain": [
       "                 Model  Train R2   Test R2  Test RMSE  Variance\n",
       "0  K-Nearest Neighbors  0.676961  0.542244   3.561348  0.134718"
      ]
     },
     "execution_count": 34,
     "metadata": {},
     "output_type": "execute_result"
    }
   ],
   "source": [
    "\n",
    "Results.head()"
   ]
  },
  {
   "cell_type": "code",
   "execution_count": 35,
   "metadata": {},
   "outputs": [
    {
     "data": {
      "text/plain": [
       "SVR(C=1.0, cache_size=200, coef0=0.0, degree=3, epsilon=0.1, gamma='auto',\n",
       "  kernel='rbf', max_iter=-1, shrinking=True, tol=0.001, verbose=False)"
      ]
     },
     "execution_count": 35,
     "metadata": {},
     "output_type": "execute_result"
    }
   ],
   "source": [
    "\n",
    "svr = SVR().fit(X_train,y_train)\n",
    "svr\n",
    "     "
   ]
  },
  {
   "cell_type": "code",
   "execution_count": 36,
   "metadata": {},
   "outputs": [],
   "source": [
    "svr_train_pred = svr.predict(X_train)\n",
    "svr_test_pred = svr.predict(X_test)"
   ]
  },
  {
   "cell_type": "code",
   "execution_count": 37,
   "metadata": {},
   "outputs": [
    {
     "name": "stdout",
     "output_type": "stream",
     "text": [
      "[14.69988683 14.27776316 13.17921961 12.08940906 11.93133017 12.27430179\n",
      " 13.30359322 13.00003337 12.83559154 11.14370261 11.49971174 12.27392369\n",
      " 14.27462981 15.12371713 14.27464801 10.69870254 13.20054754 14.99218973\n",
      " 15.27985    12.43163155 11.12930195 12.20454669 12.02816255 14.73141129\n",
      " 14.88727781 11.98469217 14.5726019  14.27654137 10.57264637 12.28251797\n",
      " 11.63493256 13.32023696 12.27461038 12.86289483 14.57320182 14.30037834\n",
      " 11.89971175 12.34744419 12.98195539 12.06072561 11.47137334 15.41847071\n",
      " 12.27423589 14.16400945 15.01334742 10.58443481 13.1655962  14.78246683\n",
      " 15.2312277  11.49971174 14.27500937 12.99971174 12.31264825 12.27598325\n",
      " 11.93133017 12.09009128 14.0010093  12.2746108  13.31656179 14.26668522\n",
      " 14.51217389 14.88763123 14.27654137 13.90054754 12.27577026 14.26466559\n",
      " 13.60652695 14.76275983 15.20645636 14.79996183 13.26847836 12.21902992\n",
      " 15.38539825 14.28589562 15.52889351 12.01063131 14.42659824 11.20842225\n",
      " 11.44312738 11.42505676 13.00037834 12.59971178 12.2443536  15.39977393\n",
      " 11.49993808 13.150983   14.27242062 14.71321068 13.23104104 13.06514596\n",
      " 12.53765056 13.29993808 13.23540243 15.22534761 11.14338034 13.32372498\n",
      " 13.26847836 14.40355414 10.03924304 14.97228749 12.27325621 14.28251796\n",
      " 12.29201816 15.27985    10.06472195 13.30359322 12.2779285  12.66873083\n",
      " 12.21903417 10.85100192 12.71925335 14.35263458 15.25504105 14.79665454\n",
      " 14.69996183 11.17916174 14.76275983 15.66121474 13.34844102 14.22779635\n",
      " 14.97230589 12.69977393 14.57939472 13.05754006 13.37883399 14.2581986\n",
      " 13.31382965 12.90003337 13.31211368 10.52050828 14.28251797 12.27268049\n",
      " 14.21957188 14.27461092] [12.94729449 13.89820712 12.59796561 14.42819219 12.79073488 12.31381913\n",
      " 13.27460978 13.6373829  14.4499961  15.04420438 13.27461092 13.05389956\n",
      " 13.94303853 13.62838441 13.28745837 13.30307888 11.47137334 13.2929257\n",
      " 13.2758316  13.27458443 13.27452322 14.13890988 12.90003337 13.19733038\n",
      " 13.03153463 13.8727355  13.65062004 12.18685349 13.36407095 11.28294366\n",
      " 12.43708281 13.2624462  15.04347107 12.39811356 13.27454386 13.09005454\n",
      " 13.27461092 12.71376803 13.42232515 13.27461092 13.29408623 13.35213829\n",
      " 12.83043383 13.71625082 12.66195306 13.71625082 14.10898791 13.16920691\n",
      " 12.27577026 13.27345291 14.06947263 13.33816436 13.01515711 12.53584024\n",
      " 11.92465243 12.9369037  12.48473629 12.87148149 12.80759356 13.27461092\n",
      " 13.23532247 13.26353453 10.40387463 13.13375014 14.50227101 12.91290148]\n"
     ]
    }
   ],
   "source": [
    "print(svr_train_pred,svr_test_pred)"
   ]
  },
  {
   "cell_type": "code",
   "execution_count": 38,
   "metadata": {},
   "outputs": [
    {
     "name": "stdout",
     "output_type": "stream",
     "text": [
      "R2: 0.10402208918953137\n",
      "RMSE: 4.982483246277507\n"
     ]
    }
   ],
   "source": [
    "r2 = r2_score(y_test,svr_test_pred)\n",
    "r2_train = r2_score(y_train,svr_train_pred)\n",
    "rmse = np.sqrt(mean_squared_error(y_test,svr_test_pred))\n",
    "variance = r2_train - r2\n",
    "Results = Results.append({\"Model\":\"Support Vector Machine\",\"Train R2\":r2_train,\"Test R2\":r2,\"Test RMSE\":rmse,\"Variance\":variance},ignore_index=True)\n",
    "print(\"R2:\",r2)\n",
    "print(\"RMSE:\",rmse)"
   ]
  },
  {
   "cell_type": "code",
   "execution_count": 39,
   "metadata": {},
   "outputs": [
    {
     "data": {
      "text/html": [
       "<div>\n",
       "<style scoped>\n",
       "    .dataframe tbody tr th:only-of-type {\n",
       "        vertical-align: middle;\n",
       "    }\n",
       "\n",
       "    .dataframe tbody tr th {\n",
       "        vertical-align: top;\n",
       "    }\n",
       "\n",
       "    .dataframe thead th {\n",
       "        text-align: right;\n",
       "    }\n",
       "</style>\n",
       "<table border=\"1\" class=\"dataframe\">\n",
       "  <thead>\n",
       "    <tr style=\"text-align: right;\">\n",
       "      <th></th>\n",
       "      <th>Model</th>\n",
       "      <th>Train R2</th>\n",
       "      <th>Test R2</th>\n",
       "      <th>Test RMSE</th>\n",
       "      <th>Variance</th>\n",
       "    </tr>\n",
       "  </thead>\n",
       "  <tbody>\n",
       "    <tr>\n",
       "      <th>0</th>\n",
       "      <td>K-Nearest Neighbors</td>\n",
       "      <td>0.676961</td>\n",
       "      <td>0.542244</td>\n",
       "      <td>3.561348</td>\n",
       "      <td>0.134718</td>\n",
       "    </tr>\n",
       "    <tr>\n",
       "      <th>1</th>\n",
       "      <td>Support Vector Machine</td>\n",
       "      <td>0.323608</td>\n",
       "      <td>0.104022</td>\n",
       "      <td>4.982483</td>\n",
       "      <td>0.219586</td>\n",
       "    </tr>\n",
       "  </tbody>\n",
       "</table>\n",
       "</div>"
      ],
      "text/plain": [
       "                    Model  Train R2   Test R2  Test RMSE  Variance\n",
       "0     K-Nearest Neighbors  0.676961  0.542244   3.561348  0.134718\n",
       "1  Support Vector Machine  0.323608  0.104022   4.982483  0.219586"
      ]
     },
     "execution_count": 39,
     "metadata": {},
     "output_type": "execute_result"
    }
   ],
   "source": [
    "Results.head()"
   ]
  },
  {
   "cell_type": "code",
   "execution_count": 40,
   "metadata": {},
   "outputs": [],
   "source": [
    "import statsmodels.api as sm"
   ]
  },
  {
   "cell_type": "code",
   "execution_count": 41,
   "metadata": {},
   "outputs": [],
   "source": [
    "X_train_constant = sm.add_constant(X_train)"
   ]
  },
  {
   "cell_type": "code",
   "execution_count": 42,
   "metadata": {},
   "outputs": [],
   "source": [
    "model = sm.OLS(y_train, X_train_constant).fit()"
   ]
  },
  {
   "cell_type": "code",
   "execution_count": 43,
   "metadata": {},
   "outputs": [
    {
     "data": {
      "text/plain": [
       "const    7.157150\n",
       "x1       0.047384\n",
       "dtype: float64"
      ]
     },
     "execution_count": 43,
     "metadata": {},
     "output_type": "execute_result"
    }
   ],
   "source": [
    "model.params\n"
   ]
  },
  {
   "cell_type": "code",
   "execution_count": 44,
   "metadata": {},
   "outputs": [
    {
     "name": "stdout",
     "output_type": "stream",
     "text": [
      "                            OLS Regression Results                            \n",
      "==============================================================================\n",
      "Dep. Variable:                  Sales   R-squared:                       0.623\n",
      "Model:                            OLS   Adj. R-squared:                  0.620\n",
      "Method:                 Least Squares   F-statistic:                     217.7\n",
      "Date:                Sun, 05 Feb 2023   Prob (F-statistic):           1.03e-29\n",
      "Time:                        13:01:20   Log-Likelihood:                -344.64\n",
      "No. Observations:                 134   AIC:                             693.3\n",
      "Df Residuals:                     132   BIC:                             699.1\n",
      "Df Model:                           1                                         \n",
      "Covariance Type:            nonrobust                                         \n",
      "==============================================================================\n",
      "                 coef    std err          t      P>|t|      [0.025      0.975]\n",
      "------------------------------------------------------------------------------\n",
      "const          7.1571      0.556     12.882      0.000       6.058       8.256\n",
      "x1             0.0474      0.003     14.756      0.000       0.041       0.054\n",
      "==============================================================================\n",
      "Omnibus:                        0.395   Durbin-Watson:                   1.787\n",
      "Prob(Omnibus):                  0.821   Jarque-Bera (JB):                0.551\n",
      "Skew:                          -0.088   Prob(JB):                        0.759\n",
      "Kurtosis:                       2.740   Cond. No.                         349.\n",
      "==============================================================================\n",
      "\n",
      "Warnings:\n",
      "[1] Standard Errors assume that the covariance matrix of the errors is correctly specified.\n"
     ]
    }
   ],
   "source": [
    "print(model.summary())"
   ]
  },
  {
   "cell_type": "code",
   "execution_count": 45,
   "metadata": {},
   "outputs": [
    {
     "data": {
      "image/png": "[encoded data removed]",
      "text/plain": [
       "<matplotlib.figure.Figure at 0x1a77b885dd8>"
      ]
     },
     "metadata": {},
     "output_type": "display_data"
    }
   ],
   "source": [
    "plt.scatter(X_train, y_train)\n",
    "plt.plot(X_train, 6.9955 + 0.0541 * X_train, 'y')\n",
    "plt.show()"
   ]
  },
  {
   "cell_type": "code",
   "execution_count": 46,
   "metadata": {},
   "outputs": [
    {
     "data": {
      "text/plain": [
       "48    -3.122758\n",
       "188   -4.808928\n",
       "131   -7.023344\n",
       "182   -1.120122\n",
       "117   -1.377275\n",
       "90    -2.320799\n",
       "21    -5.906073\n",
       "43    -4.060866\n",
       "88     1.558857\n",
       "108   -2.477878\n",
       "9     -6.024441\n",
       "60    -1.592185\n",
       "147    6.719100\n",
       "20     0.494220\n",
       "98     4.515752\n",
       "5     -0.369389\n",
       "161    2.082055\n",
       "17     3.909038\n",
       "97    -0.418422\n",
       "140    0.264876\n",
       "195   -1.367212\n",
       "29    -0.002449\n",
       "158   -0.411541\n",
       "154   -0.455835\n",
       "30     0.364124\n",
       "190    1.771189\n",
       "113   -1.188803\n",
       "176    1.272704\n",
       "8     -2.764651\n",
       "31    -0.606785\n",
       "         ...   \n",
       "121   -1.047966\n",
       "68     0.493927\n",
       "51    -1.214487\n",
       "82     0.574847\n",
       "135    2.154211\n",
       "119   -1.476396\n",
       "65    -1.126635\n",
       "40    -0.152377\n",
       "124    1.668259\n",
       "14     2.171809\n",
       "102   -5.634102\n",
       "22    -2.182616\n",
       "146   -5.334010\n",
       "69     4.870034\n",
       "37     4.003277\n",
       "105    5.508619\n",
       "47     4.675467\n",
       "179   -2.403914\n",
       "11     0.069540\n",
       "67    -0.357719\n",
       "110   -4.456421\n",
       "3      4.164198\n",
       "175    6.722265\n",
       "197   -2.744089\n",
       "54     0.595115\n",
       "126   -0.926744\n",
       "85    -1.111708\n",
       "46    -0.807480\n",
       "114    3.737434\n",
       "109    0.541018\n",
       "Name: Sales, Length: 134, dtype: float64"
      ]
     },
     "execution_count": 46,
     "metadata": {},
     "output_type": "execute_result"
    }
   ],
   "source": [
    "y_train_pred = model.predict(X_train_constant)\n",
    "res = (y_train - y_train_pred)\n",
    "res"
   ]
  },
  {
   "cell_type": "code",
   "execution_count": 47,
   "metadata": {},
   "outputs": [
    {
     "data": {
      "text/plain": [
       "array([17.9227582 , 20.70892798, 19.72334411,  9.82012159, 10.77727515,\n",
       "       13.52079948, 18.40607336, 16.96086625, 11.34114285,  7.77787809,\n",
       "       16.62444099,  9.69218522, 18.68089964, 17.50578041, 20.88424819,\n",
       "        7.5693892 , 11.21794486, 20.49096232, 15.91842177, 10.63512363,\n",
       "        8.96721247, 10.50244888,  7.71154072, 16.05583491, 21.03587647,\n",
       "        9.02881147, 17.08880262, 18.9272956 ,  7.56465081, 12.50678531,\n",
       "        8.46020539, 14.255249  ,  9.26573066, 12.89059441, 17.14092484,\n",
       "       15.33086216, 10.77253677, 13.80510252, 10.39820444, 10.32712868,\n",
       "        7.97215184, 17.96066527, 12.24617419, 15.27400155, 18.06017133,\n",
       "        8.00532052, 12.86690249, 16.08426521, 14.89493083, 16.62444099,\n",
       "       21.20171991, 13.3976015 , 15.13658842, 11.28902062, 10.77727515,\n",
       "        9.88172058, 15.06077427,  8.64974075, 11.60649235, 12.40254086,\n",
       "       17.27359959, 21.06904516, 19.0457552 , 12.02347014, 17.69531577,\n",
       "       15.45406014, 19.74229765, 18.53400973, 20.45779363, 16.06057329,\n",
       "       16.52019654,  9.52634178, 17.41101273, 20.59520676, 17.47261172,\n",
       "        8.37017609, 17.57211778,  8.95773571, 11.69178326,  8.4270367 ,\n",
       "       15.72414803, 10.36977413,  7.41302253, 17.97488042, 11.71547518,\n",
       "       13.75298029, 15.80943894, 16.87083695, 19.61436128, 11.6207075 ,\n",
       "       15.22187933, 12.85268734, 20.26825827, 14.9044076 ,  7.50305182,\n",
       "       14.25051061, 16.52019654, 19.80389664,  8.0432276 , 18.49610266,\n",
       "       13.28861866, 16.41595209, 12.11349944, 15.91842177,  8.04796598,\n",
       "       18.40607336, 11.91448731, 10.72515293,  9.44578926,  8.07639628,\n",
       "       10.42663474, 16.75237736, 18.03174103, 16.8281915 , 20.43410171,\n",
       "        7.78261648, 18.53400973, 17.42996626, 10.69672263, 13.6913813 ,\n",
       "       18.52453296, 15.00391367, 17.3304602 , 13.75771868, 17.85642082,\n",
       "       14.33580152, 20.27773504, 15.54408944, 19.60488451,  7.52674374,\n",
       "       16.31170764, 11.40748022, 10.86256607, 19.25898248])"
      ]
     },
     "execution_count": 47,
     "metadata": {},
     "output_type": "execute_result"
    }
   ],
   "source": [
    "y_train_pred"
   ]
  },
  {
   "cell_type": "code",
   "execution_count": 48,
   "metadata": {},
   "outputs": [
    {
     "data": {
      "image/png": "[encoded data removed]",
      "text/plain": [
       "<matplotlib.figure.Figure at 0x1a77b885cc0>"
      ]
     },
     "metadata": {},
     "output_type": "display_data"
    }
   ],
   "source": [
    "fig = plt.figure()\n",
    "sns.distplot(res, bins = 15)\n",
    "fig.suptitle('Error Terms', fontsize = 15)\n",
    "plt.xlabel('Difference in y_train and y_train_pred', fontsize = 15)\n",
    "plt.show()"
   ]
  },
  {
   "cell_type": "code",
   "execution_count": 49,
   "metadata": {},
   "outputs": [
    {
     "data": {
      "image/png": "[encoded data removed]",
      "text/plain": [
       "<matplotlib.figure.Figure at 0x1a77b7ab9b0>"
      ]
     },
     "metadata": {},
     "output_type": "display_data"
    }
   ],
   "source": [
    "plt.scatter(X_train, res)\n",
    "plt.show()"
   ]
  },
  {
   "cell_type": "code",
   "execution_count": 50,
   "metadata": {},
   "outputs": [],
   "source": [
    "X_test_constant = sm.add_constant(X_test)\n",
    "y_pred = model.predict(X_test_constant)"
   ]
  },
  {
   "cell_type": "code",
   "execution_count": 51,
   "metadata": {},
   "outputs": [
    {
     "data": {
      "text/plain": [
       "array([10.71567616, 15.48249045, 10.43611151, 17.36362889,  8.90561348,\n",
       "        9.27520743, 13.11329846, 14.95179144, 17.26886121, 17.51051879,\n",
       "        7.19031848, 11.77707417, 20.62837545, 18.44398044, 16.21220158,\n",
       "       13.61082878,  7.97215184, 10.95733375, 14.1367894 , 12.71053582,\n",
       "       20.12610675, 18.94624914, 15.54408944, 17.77112991, 13.36917119,\n",
       "       17.60528647, 20.93163203, 16.5912723 , 20.78474212,  8.08587305,\n",
       "        8.34648417,  9.98122665, 18.51979458, 10.7346297 , 12.65367521,\n",
       "        7.35142354, 10.10916301, 10.2892216 , 18.60982388, 14.57745911,\n",
       "       18.15493901, 19.18316834, 13.56344494, 12.3598954 , 11.44064891,\n",
       "       12.3598954 , 16.33539956,  9.1946549 , 17.69531577, 13.9283005 ,\n",
       "       17.5958097 , 19.53854714, 16.95612787,  8.34174579,  7.95793669,\n",
       "        8.51232761, 16.58179553, 13.76719545, 11.76285902, 18.26866023,\n",
       "        8.28488518, 12.99010047,  7.55517405,  9.19939329, 17.14566323,\n",
       "       13.85248636])"
      ]
     },
     "execution_count": 51,
     "metadata": {},
     "output_type": "execute_result"
    }
   ],
   "source": [
    "y_pred"
   ]
  },
  {
   "cell_type": "code",
   "execution_count": 52,
   "metadata": {},
   "outputs": [],
   "source": [
    "from sklearn.metrics import mean_squared_error\n",
    "from sklearn.metrics import r2_score"
   ]
  },
  {
   "cell_type": "code",
   "execution_count": 53,
   "metadata": {},
   "outputs": [
    {
     "data": {
      "text/plain": [
       "3.393394801302167"
      ]
     },
     "execution_count": 53,
     "metadata": {},
     "output_type": "execute_result"
    }
   ],
   "source": [
    "np.sqrt(mean_squared_error(y_test, y_pred))"
   ]
  },
  {
   "cell_type": "code",
   "execution_count": 54,
   "metadata": {},
   "outputs": [
    {
     "data": {
      "text/plain": [
       "0.5844011003383383"
      ]
     },
     "execution_count": 54,
     "metadata": {},
     "output_type": "execute_result"
    }
   ],
   "source": [
    "r2 = r2_score(y_test, y_pred)\n",
    "r2"
   ]
  },
  {
   "cell_type": "code",
   "execution_count": 55,
   "metadata": {},
   "outputs": [
    {
     "data": {
      "image/png": "[encoded data removed]",
      "text/plain": [
       "<matplotlib.figure.Figure at 0x1a77b351cc0>"
      ]
     },
     "metadata": {},
     "output_type": "display_data"
    }
   ],
   "source": [
    "plt.scatter(X_test, y_test)\n",
    "plt.plot(X_test, 6.9955 + 0.0541 * X_test, 'y')\n",
    "plt.show()"
   ]
  },
  {
   "cell_type": "code",
   "execution_count": null,
   "metadata": {},
   "outputs": [],
   "source": []
  }
 ],
 "metadata": {
  "kernelspec": {
   "display_name": "Python 3",
   "language": "python",
   "name": "python3"
  },
  "language_info": {
   "codemirror_mode": {
    "name": "ipython",
    "version": 3
   },
   "file_extension": ".py",
   "mimetype": "text/x-python",
   "name": "python",
   "nbconvert_exporter": "python",
   "pygments_lexer": "ipython3",
   "version": "3.6.4"
  }
 },
 "nbformat": 4,
 "nbformat_minor": 2
}
